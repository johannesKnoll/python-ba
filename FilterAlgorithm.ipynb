{
 "cells": [
  {
   "cell_type": "code",
   "execution_count": 2,
   "id": "380e3e60",
   "metadata": {},
   "outputs": [],
   "source": [
    "string_array = [\"Hallo\", \"Halo\", \"hallo\", \"Hallo\"]\n",
    "\n",
    "include_item = set()\n",
    "result = []\n",
    "\n",
    "for item in string_array:\n",
    "    if item not in include_item:\n",
    "        include_item.add(item)\n",
    "        result.append(item)"
   ]
  },
  {
   "cell_type": "code",
   "execution_count": 3,
   "id": "75def5cf",
   "metadata": {},
   "outputs": [
    {
     "data": {
      "text/plain": [
       "['Hallo', 'Halo', 'hallo']"
      ]
     },
     "execution_count": 3,
     "metadata": {},
     "output_type": "execute_result"
    }
   ],
   "source": [
    "result"
   ]
  },
  {
   "cell_type": "code",
   "execution_count": null,
   "id": "5f7fa3a4",
   "metadata": {},
   "outputs": [],
   "source": []
  }
 ],
 "metadata": {
  "kernelspec": {
   "display_name": "Python 3 (ipykernel)",
   "language": "python",
   "name": "python3"
  },
  "language_info": {
   "codemirror_mode": {
    "name": "ipython",
    "version": 3
   },
   "file_extension": ".py",
   "mimetype": "text/x-python",
   "name": "python",
   "nbconvert_exporter": "python",
   "pygments_lexer": "ipython3",
   "version": "3.9.6"
  }
 },
 "nbformat": 4,
 "nbformat_minor": 5
}
